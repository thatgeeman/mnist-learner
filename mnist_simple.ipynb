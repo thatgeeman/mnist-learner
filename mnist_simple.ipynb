{
 "metadata": {
  "language_info": {
   "codemirror_mode": {
    "name": "ipython",
    "version": 3
   },
   "file_extension": ".py",
   "mimetype": "text/x-python",
   "name": "python",
   "nbconvert_exporter": "python",
   "pygments_lexer": "ipython3",
   "version": "3.9.2-final"
  },
  "orig_nbformat": 2,
  "kernelspec": {
   "name": "python39264bit46a2a871231f4701813400ec577e37c4",
   "display_name": "Python 3.9.2 64-bit"
  }
 },
 "nbformat": 4,
 "nbformat_minor": 2,
 "cells": [
  {
   "cell_type": "code",
   "execution_count": 4,
   "metadata": {},
   "outputs": [],
   "source": [
    "from fastai.vision.all import *"
   ]
  },
  {
   "source": [
    "dataset_dir = untar_data(URLs.MNIST)"
   ],
   "cell_type": "code",
   "metadata": {},
   "execution_count": 12,
   "outputs": []
  },
  {
   "cell_type": "code",
   "execution_count": 13,
   "metadata": {},
   "outputs": [
    {
     "output_type": "execute_result",
     "data": {
      "text/plain": [
       "Path('/home/gg/.fastai/data/mnist_png')"
      ]
     },
     "metadata": {},
     "execution_count": 13
    }
   ],
   "source": [
    "dataset_dir"
   ]
  },
  {
   "cell_type": "code",
   "execution_count": 21,
   "metadata": {},
   "outputs": [
    {
     "output_type": "execute_result",
     "data": {
      "text/plain": [
       "(#1010) [Path('/home/gg/.fastai/data/mnist_png/testing/3/6030.png'),Path('/home/gg/.fastai/data/mnist_png/testing/3/3944.png'),Path('/home/gg/.fastai/data/mnist_png/testing/3/8864.png'),Path('/home/gg/.fastai/data/mnist_png/testing/3/1490.png'),Path('/home/gg/.fastai/data/mnist_png/testing/3/1742.png'),Path('/home/gg/.fastai/data/mnist_png/testing/3/493.png'),Path('/home/gg/.fastai/data/mnist_png/testing/3/1069.png'),Path('/home/gg/.fastai/data/mnist_png/testing/3/9750.png'),Path('/home/gg/.fastai/data/mnist_png/testing/3/9742.png'),Path('/home/gg/.fastai/data/mnist_png/testing/3/8607.png')...]"
      ]
     },
     "metadata": {},
     "execution_count": 21
    }
   ],
   "source": [
    "Path.ls(dataset_dir/'testing/3')"
   ]
  },
  {
   "cell_type": "code",
   "execution_count": 22,
   "metadata": {},
   "outputs": [
    {
     "output_type": "execute_result",
     "data": {
      "text/plain": [
       "(#6131) [Path('/home/gg/.fastai/data/mnist_png/training/3/22204.png'),Path('/home/gg/.fastai/data/mnist_png/training/3/7156.png'),Path('/home/gg/.fastai/data/mnist_png/training/3/57817.png'),Path('/home/gg/.fastai/data/mnist_png/training/3/43393.png'),Path('/home/gg/.fastai/data/mnist_png/training/3/15335.png'),Path('/home/gg/.fastai/data/mnist_png/training/3/55008.png'),Path('/home/gg/.fastai/data/mnist_png/training/3/35093.png'),Path('/home/gg/.fastai/data/mnist_png/training/3/459.png'),Path('/home/gg/.fastai/data/mnist_png/training/3/1336.png'),Path('/home/gg/.fastai/data/mnist_png/training/3/29608.png')...]"
      ]
     },
     "metadata": {},
     "execution_count": 22
    }
   ],
   "source": [
    "Path.ls(dataset_dir/'training/3')"
   ]
  },
  {
   "cell_type": "code",
   "execution_count": 71,
   "metadata": {},
   "outputs": [],
   "source": [
    "dataset=Path.ls(dataset_dir/'training/3')\n",
    "valid=Path.ls(dataset_dir/'testing/3')"
   ]
  },
  {
   "cell_type": "code",
   "execution_count": 24,
   "metadata": {},
   "outputs": [
    {
     "output_type": "execute_result",
     "data": {
      "text/plain": [
       "Path('/home/gg/.fastai/data/mnist_png/training/3/22204.png')"
      ]
     },
     "metadata": {},
     "execution_count": 24
    }
   ],
   "source": [
    "dataset[0]"
   ]
  },
  {
   "cell_type": "code",
   "execution_count": 26,
   "metadata": {},
   "outputs": [],
   "source": [
    "im3 = Image.open(dataset[0])"
   ]
  },
  {
   "cell_type": "code",
   "execution_count": 27,
   "metadata": {},
   "outputs": [
    {
     "output_type": "execute_result",
     "data": {
      "text/plain": [
       "<PIL.PngImagePlugin.PngImageFile image mode=L size=28x28 at 0x7F2A39302460>"
      ],
      "image/png": "[encoded data removed]"
     },
     "metadata": {},
     "execution_count": 27
    }
   ],
   "source": [
    "im3"
   ]
  },
  {
   "cell_type": "code",
   "execution_count": 31,
   "metadata": {},
   "outputs": [
    {
     "output_type": "execute_result",
     "data": {
      "text/plain": [
       "tensor([[  0,   0,   0,   0,   0,   0],\n",
       "        [  0,   0,   0,   0,   0,   4],\n",
       "        [  0,   0,   0,   5,  25,  91],\n",
       "        [  0,   0,   0,  49, 252, 252],\n",
       "        [  0,   5,  49,  88, 252, 252],\n",
       "        [  0,  25, 252, 252, 252, 252]], dtype=torch.uint8)"
      ]
     },
     "metadata": {},
     "execution_count": 31
    }
   ],
   "source": [
    "tensor(im3)[4:10,4:10]"
   ]
  },
  {
   "cell_type": "code",
   "execution_count": 72,
   "metadata": {},
   "outputs": [],
   "source": [
    "dataset_tensor = [tensor(Image.open(x)) for x in dataset]\n",
    "valid_tensor = [tensor(Image.open(x)) for x in valid]"
   ]
  },
  {
   "cell_type": "code",
   "execution_count": 36,
   "metadata": {},
   "outputs": [
    {
     "output_type": "execute_result",
     "data": {
      "text/plain": [
       "6131"
      ]
     },
     "metadata": {},
     "execution_count": 36
    }
   ],
   "source": [
    "len(dataset_tensor)"
   ]
  },
  {
   "cell_type": "code",
   "execution_count": 73,
   "metadata": {},
   "outputs": [],
   "source": [
    "dataset_stacked = torch.stack(dataset_tensor).float()/255\n",
    "valid_stacked = torch.stack(valid_tensor).float()/255"
   ]
  },
  {
   "cell_type": "code",
   "execution_count": 40,
   "metadata": {},
   "outputs": [
    {
     "output_type": "execute_result",
     "data": {
      "text/plain": [
       "torch.Size([6131, 28, 28])"
      ]
     },
     "metadata": {},
     "execution_count": 40
    }
   ],
   "source": [
    "dataset_stacked.shape"
   ]
  },
  {
   "source": [
    "How the mean of the threes look like."
   ],
   "cell_type": "markdown",
   "metadata": {}
  },
  {
   "cell_type": "code",
   "execution_count": 44,
   "metadata": {},
   "outputs": [
    {
     "output_type": "execute_result",
     "data": {
      "text/plain": [
       "<AxesSubplot:>"
      ]
     },
     "metadata": {},
     "execution_count": 44
    },
    {
     "output_type": "display_data",
     "data": {
      "text/plain": "<Figure size 72x72 with 1 Axes>",
      "image/svg+xml": "<?xml version=\"1.0\" encoding=\"utf-8\" standalone=\"no\"?>\n<!DOCTYPE svg PUBLIC \"-//W3C//DTD SVG 1.1//EN\"\n  \"http://www.w3.org/Graphics/SVG/1.1/DTD/svg11.dtd\">\n<!-- Created with matplotlib (https://matplotlib.org/) -->\n<svg height=\"68.76pt\" version=\"1.1\" viewBox=\"0 0 68.76 68.76\" width=\"68.76pt\" xmlns=\"http://www.w3.org/2000/svg\" xmlns:xlink=\"http://www.w3.org/1999/xlink\">\n <metadata>\n  <rdf:RDF xmlns:cc=\"http://creativecommons.org/ns#\" xmlns:dc=\"http://purl.org/dc/elements/1.1/\" xmlns:rdf=\"http://www.w3.org/1999/02/22-rdf-syntax-ns#\">\n   <cc:Work>\n    <dc:type rdf:resource=\"http://purl.org/dc/dcmitype/StillImage\"/>\n    <dc:date>2021-04-06T10:57:55.802690</dc:date>\n    <dc:format>image/svg+xml</dc:format>\n    <dc:creator>\n     <cc:Agent>\n      <dc:title>Matplotlib v3.3.4, https://matplotlib.org/</dc:title>\n     </cc:Agent>\n    </dc:creator>\n   </cc:Work>\n  </rdf:RDF>\n </metadata>\n <defs>\n  <style type=\"text/css\">*{stroke-linecap:butt;stroke-linejoin:round;}</style>\n </defs>\n <g id=\"figure_1\">\n  <g id=\"patch_1\">\n   <path d=\"M 0 68.76 \nL 68.76 68.76 \nL 68.76 0 \nL 0 0 \nz\n\" style=\"fill:none;\"/>\n  </g>\n  <g id=\"axes_1\">\n   <g clip-path=\"url(#pcbac182bde)\">\n    <image height=\"55\" id=\"image1dad9e2cb6\" transform=\"scale(1 -1)translate(0 -55)\" width=\"55\" x=\"7.2\" xlink:href=\"data:image/png;base64,\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\" y=\"-6.56\"/>\n   </g>\n  </g>\n </g>\n <defs>\n  <clipPath id=\"pcbac182bde\">\n   <rect height=\"54.36\" width=\"54.36\" x=\"7.2\" y=\"7.2\"/>\n  </clipPath>\n </defs>\n</svg>\n",
      "image/png": "[encoded data removed]"
     },
     "metadata": {
      "needs_background": "light"
     }
    }
   ],
   "source": [
    "show_image(dataset_stacked.mean(axis=0))"
   ]
  },
  {
   "source": [
    "Distance of an image from the mean image."
   ],
   "cell_type": "markdown",
   "metadata": {}
  },
  {
   "cell_type": "code",
   "execution_count": 47,
   "metadata": {},
   "outputs": [],
   "source": [
    "a_3 = dataset_stacked[0]"
   ]
  },
  {
   "cell_type": "code",
   "execution_count": 48,
   "metadata": {},
   "outputs": [
    {
     "output_type": "execute_result",
     "data": {
      "text/plain": [
       "tensor(0.1762)"
      ]
     },
     "metadata": {},
     "execution_count": 48
    }
   ],
   "source": [
    "F.l1_loss(a_3,dataset_stacked.mean(axis=0))"
   ]
  },
  {
   "cell_type": "code",
   "execution_count": 50,
   "metadata": {},
   "outputs": [
    {
     "output_type": "execute_result",
     "data": {
      "text/plain": [
       "tensor(0.3170)"
      ]
     },
     "metadata": {},
     "execution_count": 50
    }
   ],
   "source": [
    "F.mse_loss(a_3,dataset_stacked.mean(axis=0)).sqrt()"
   ]
  },
  {
   "source": [
    "Doing the same for each item in the stack along xy axis."
   ],
   "cell_type": "markdown",
   "metadata": {}
  },
  {
   "cell_type": "code",
   "execution_count": 54,
   "metadata": {},
   "outputs": [
    {
     "output_type": "execute_result",
     "data": {
      "text/plain": [
       "tensor([0.1762, 0.1062, 0.1306,  ..., 0.1214, 0.1277, 0.1240])"
      ]
     },
     "metadata": {},
     "execution_count": 54
    }
   ],
   "source": [
    "(dataset_stacked-dataset_stacked.mean(axis=0)).abs().mean((-1,-2))"
   ]
  },
  {
   "cell_type": "code",
   "execution_count": 74,
   "metadata": {},
   "outputs": [],
   "source": [
    "dataset_mean=dataset_stacked.mean(axis=0)\n",
    "valid_mean=valid_stacked.mean(axis=0)"
   ]
  },
  {
   "source": [
    "Making a function."
   ],
   "cell_type": "markdown",
   "metadata": {}
  },
  {
   "cell_type": "code",
   "execution_count": 75,
   "metadata": {},
   "outputs": [],
   "source": [
    "def mnist_distance(a,b) : return (a-b).abs().mean((-1,-2))"
   ]
  },
  {
   "cell_type": "code",
   "execution_count": 76,
   "metadata": {},
   "outputs": [
    {
     "output_type": "execute_result",
     "data": {
      "text/plain": [
       "tensor([0.1762, 0.1062, 0.1306,  ..., 0.1214, 0.1277, 0.1240])"
      ]
     },
     "metadata": {},
     "execution_count": 76
    }
   ],
   "source": [
    "mnist_distance(dataset_stacked,dataset_mean)"
   ]
  },
  {
   "cell_type": "code",
   "execution_count": 77,
   "metadata": {},
   "outputs": [
    {
     "output_type": "execute_result",
     "data": {
      "text/plain": [
       "tensor([0.1568, 0.1098, 0.1045,  ..., 0.1256, 0.1275, 0.1266])"
      ]
     },
     "metadata": {},
     "execution_count": 77
    }
   ],
   "source": [
    "mnist_distance(valid_stacked,valid_mean)"
   ]
  },
  {
   "cell_type": "code",
   "execution_count": null,
   "metadata": {},
   "outputs": [],
   "source": []
  }
 ]
}